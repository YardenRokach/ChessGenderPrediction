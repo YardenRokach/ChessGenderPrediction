{
 "cells": [
  {
   "cell_type": "code",
   "execution_count": 1,
   "id": "64560691-f221-4ae3-a2b6-1bd749965ba8",
   "metadata": {},
   "outputs": [],
   "source": [
    "import glob\n",
    "import chess\n",
    "import pickle\n",
    "from tqdm import tqdm\n",
    "import numpy as np"
   ]
  },
  {
   "cell_type": "code",
   "execution_count": null,
   "id": "63e10eae-c5e6-49ec-baca-b93c361099f9",
   "metadata": {
    "tags": []
   },
   "outputs": [
    {
     "name": "stdout",
     "output_type": "stream",
     "text": [
      "Loading games/games-1.pkl...\n"
     ]
    },
    {
     "name": "stderr",
     "output_type": "stream",
     "text": [
      "  0%|          | 0/100000 [00:00<?, ?it/s]\n"
     ]
    },
    {
     "name": "stdout",
     "output_type": "stream",
     "text": [
      "Headers(Event='FIDE Candidates 2018', Site='Berlin GER', Date='2018.03.20', Round='9.1', White='So,W', Black='Grischuk,A', Result='1/2-1/2', BlackElo='2767', BlackFideId='4126025', BlackTitle='GM', ECO='C67', EventDate='2018.03.10', Opening='Ruy Lopez', Variation='Berlin defence, open variation', WhiteElo='2799', WhiteFideId='5202213', WhiteTitle='GM')\n",
      "Loading games/games-2.pkl...\n",
      "Loading games/games-3.pkl...\n"
     ]
    },
    {
     "name": "stderr",
     "output_type": "stream",
     "text": [
      "  0%|          | 0/100000 [00:00<?, ?it/s]\n"
     ]
    },
    {
     "name": "stdout",
     "output_type": "stream",
     "text": [
      "Headers(Event='New York Winter IMC 2023', Site='New York USA', Date='2023.01.14', Round='4.1', White='Nakada,Akira', Black='Hardaway,Brewington', Result='0-1', BlackElo='2345', BlackFideId='30941849', BlackTitle='CM', ECO='A13', EventDate='2023.01.12', Opening='English opening', WhiteElo='2304', WhiteFideId='30903920', WhiteTitle='FM')\n",
      "Loading games/games-4.pkl...\n"
     ]
    }
   ],
   "source": [
    "#Get the Elo ratings of players played in the games used for the model and its evaluation\n",
    "game_files = glob.glob('games/*')\n",
    "\n",
    "elos = []\n",
    "\n",
    "for game_file in game_files:\n",
    "    print(f'Loading {game_file}...')\n",
    "    with open( game_file, \"rb\" ) as f:\n",
    "            try:\n",
    "                games = pickle.load(f)\n",
    "            except:\n",
    "                continue\n",
    "            for game in tqdm(games):\n",
    "                try:\n",
    "                    if \"WhiteFideId\" not in game.headers or \"BlackFideId\" not in game.headers: #Skip games not used in the model, games without Fide ids were ignored\n",
    "                        continue\n",
    "\n",
    "                    if 'BlackElo' in game.headers:\n",
    "                        elos.append(int(game.headers['BlackElo']))\n",
    "                        \n",
    "                    if 'WhiteElo' in game.headers:\n",
    "                        elos.append(int(game.headers['WhiteElo']))\n",
    "                except:\n",
    "                    pass"
   ]
  },
  {
   "cell_type": "code",
   "execution_count": 27,
   "id": "e980f8e4-97f8-4b40-9da7-9dce49fe36dd",
   "metadata": {},
   "outputs": [
    {
     "data": {
      "image/png": "[encoded data removed]",
      "text/plain": [
       "<Figure size 640x480 with 1 Axes>"
      ]
     },
     "metadata": {},
     "output_type": "display_data"
    }
   ],
   "source": [
    "import numpy as np\n",
    "import matplotlib.pyplot as plt\n",
    "\n",
    "#Draw distribution of the Elo ratings, each 100 points is a bin of its own\n",
    "data = [e for e in elos if e > 0]\n",
    "bin_size = 100\n",
    "min_value = min(data)\n",
    "max_value = max(data)\n",
    "num_bins = int(np.ceil((max_value - min_value + 1) / bin_size))\n",
    "bin_boundaries = [min_value + i * bin_size for i in range(num_bins + 1)]\n",
    "\n",
    "plt.hist(data, bins=bin_boundaries)\n",
    "\n",
    "# Add labels and title\n",
    "plt.xlabel('Elo Rating')\n",
    "plt.ylabel('Frequency')\n",
    "plt.title('Elo Rating Histogram')\n",
    "\n",
    "# Display the histogram\n",
    "plt.show()"
   ]
  },
  {
   "cell_type": "code",
   "execution_count": 4,
   "id": "1250e390-45d0-4abf-9a6e-8069d65e8b0b",
   "metadata": {},
   "outputs": [
    {
     "name": "stdout",
     "output_type": "stream",
     "text": [
      "There is a total of 3827624 samples\n",
      "There are 588551 samples of women\n"
     ]
    }
   ],
   "source": [
    "import numpy as np\n",
    "#Count number of samples used and how many are female\n",
    "files = glob.glob('/sise/liorrk-group/DataSets/Datamining/xs_data/ys*')\n",
    "total = 0\n",
    "women = 0\n",
    "for file in files:\n",
    "    ys = np.load(file) # target values of the model, 1 is for women, 0 is for men\n",
    "    total += len(ys)\n",
    "    women += sum(ys)\n",
    "\n",
    "print(f'There is a total of {total} samples')\n",
    "print(f'There are {women} samples of women')"
   ]
  },
  {
   "cell_type": "code",
   "execution_count": 15,
   "id": "c56dbd84-4404-415a-a005-51ad4eb88ae6",
   "metadata": {},
   "outputs": [
    {
     "name": "stdout",
     "output_type": "stream",
     "text": [
      "There is a total of 195572 samples in the test set, out of them 22679 women\n",
      "There is a total of 3632052 samples in the test set, out of them 565872 women\n"
     ]
    }
   ],
   "source": [
    "def replace_last(string, word_to_replace, replacement):\n",
    "    split_string = string.rsplit(word_to_replace, 1)\n",
    "    return replacement.join(split_string)\n",
    "\n",
    "#Like when training the model, first file for the test set\n",
    "files = glob.glob('/sise/liorrk-group/DataSets/Datamining/xs_data/xs*')\n",
    "files = list(map(lambda file: replace_last(file, 'xs', 'ys'), files))\n",
    "\n",
    "test_file = files[0]\n",
    "train_files = files[1:]\n",
    "\n",
    "def count_samples(files):\n",
    "    women = 0\n",
    "    total = 0\n",
    "    for file in files:\n",
    "        ys = np.load(file)\n",
    "        women += sum(ys) #women represented as 1 in the data, 0 for men\n",
    "        total += len(ys)\n",
    "    return total, women\n",
    "\n",
    "test_total, test_women = count_samples([test_file])\n",
    "print(f'There is a total of {test_total} samples in the test set, out of them {test_women} women')\n",
    "train_total, train_women = count_samples(train_files)\n",
    "print(f'There is a total of {train_total} samples in the test set, out of them {train_women} women')"
   ]
  },
  {
   "cell_type": "code",
   "execution_count": 20,
   "id": "f4226170-9070-4693-adee-c97d7c7b1b8f",
   "metadata": {},
   "outputs": [
    {
     "name": "stdout",
     "output_type": "stream",
     "text": [
      "The ratio of women in the test set is: 0.11596240770662467\n"
     ]
    }
   ],
   "source": [
    "print(f'The ratio of women in the test set is: {test_women / test_total}')"
   ]
  },
  {
   "cell_type": "code",
   "execution_count": 22,
   "id": "189e6125-c5cb-4ce5-8559-819ce5c612ec",
   "metadata": {},
   "outputs": [
    {
     "name": "stdout",
     "output_type": "stream",
     "text": [
      "The ratio of women in the train set is: 0.1557995315045049\n"
     ]
    }
   ],
   "source": [
    "print(f'The ratio of women in the train set is: {train_women / train_total}')"
   ]
  },
  {
   "cell_type": "code",
   "execution_count": 3,
   "id": "655e2100-434f-4070-9423-77908dca5e44",
   "metadata": {},
   "outputs": [
    {
     "name": "stdout",
     "output_type": "stream",
     "text": [
      "Loading games/games-1.pkl...\n"
     ]
    },
    {
     "name": "stderr",
     "output_type": "stream",
     "text": [
      "100%|██████████| 100000/100000 [00:05<00:00, 17374.17it/s]"
     ]
    },
    {
     "name": "stdout",
     "output_type": "stream",
     "text": [
      "Loading games/games-2.pkl...\n",
      "Loading games/games-3.pkl...\n",
      "Loading games/games-4.pkl...\n",
      "Loading games/games-5.pkl...\n",
      "Loading games/games-6.pkl...\n",
      "Loading games/games-7.pkl...\n",
      "Loading games/games-8.pkl...\n",
      "Loading games/games-9.pkl...\n",
      "Loading games/games-10.pkl...\n",
      "Loading games/games-11.pkl...\n",
      "Loading games/games-12.pkl...\n",
      "Loading games/games-13.pkl...\n",
      "Loading games/games-14.pkl...\n",
      "Loading games/games-15.pkl...\n",
      "Loading games/games-16.pkl...\n",
      "Loading games/games-17.pkl...\n",
      "Loading games/games-18.pkl...\n",
      "Loading games/games-19.pkl...\n",
      "Loading games/games-20.pkl...\n",
      "Loading games/games-21.pkl...\n",
      "Loading games/games-22.pkl...\n",
      "There are 42.26089 moves per game on average\n"
     ]
    },
    {
     "name": "stderr",
     "output_type": "stream",
     "text": [
      "\n"
     ]
    }
   ],
   "source": [
    "#Count the number of moves each game in the data set has\n",
    "move_counts = []\n",
    "game_files = glob.glob('games/*')\n",
    "for game_file in game_files:\n",
    "    print(f'Loading {game_file}...')\n",
    "    with open( game_file, \"rb\" ) as f:\n",
    "            try:\n",
    "                games = pickle.load(f)\n",
    "            except:\n",
    "                continue\n",
    "            for game in tqdm(games):\n",
    "                try:\n",
    "                    if \"WhiteFideId\" not in game.headers or \"BlackFideId\" not in game.headers: #Skip games not used in the model\n",
    "                        continue\n",
    "\n",
    "                    if 'BlackElo' not in game.headers:\n",
    "                        pass\n",
    "                        \n",
    "                    if 'WhiteElo' not in game.headers:\n",
    "                        pass\n",
    "                    \n",
    "                    #Count the moves\n",
    "                    count = 0\n",
    "                    for move in game.mainline_moves():\n",
    "                        count += 1\n",
    "                    move_counts.append(count / 2)\n",
    "                except:                    \n",
    "                    pass            \n",
    "print(f'There are {sum(move_counts) / len(move_counts)} moves per game on average')"
   ]
  },
  {
   "cell_type": "code",
   "execution_count": null,
   "id": "a8c11312-53a6-4357-955d-5d47398cfffd",
   "metadata": {},
   "outputs": [],
   "source": []
  }
 ],
 "metadata": {
  "kernelspec": {
   "display_name": "my_env",
   "language": "python",
   "name": "my_env"
  },
  "language_info": {
   "codemirror_mode": {
    "name": "ipython",
    "version": 3
   },
   "file_extension": ".py",
   "mimetype": "text/x-python",
   "name": "python",
   "nbconvert_exporter": "python",
   "pygments_lexer": "ipython3",
   "version": "3.9.13"
  }
 },
 "nbformat": 4,
 "nbformat_minor": 5
}
