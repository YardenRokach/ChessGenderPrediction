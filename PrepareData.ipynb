{
 "cells": [
  {
   "cell_type": "code",
   "execution_count": 1,
   "metadata": {},
   "outputs": [],
   "source": [
    "import pandas as pd\n",
    "\n",
    "df = pd.read_csv('players_data.csv') #Import player data prepared previously"
   ]
  },
  {
   "cell_type": "code",
   "execution_count": 2,
   "metadata": {},
   "outputs": [
    {
     "data": {
      "text/html": [
       "<div>\n",
       "<style scoped>\n",
       "    .dataframe tbody tr th:only-of-type {\n",
       "        vertical-align: middle;\n",
       "    }\n",
       "\n",
       "    .dataframe tbody tr th {\n",
       "        vertical-align: top;\n",
       "    }\n",
       "\n",
       "    .dataframe thead th {\n",
       "        text-align: right;\n",
       "    }\n",
       "</style>\n",
       "<table border=\"1\" class=\"dataframe\">\n",
       "  <thead>\n",
       "    <tr style=\"text-align: right;\">\n",
       "      <th></th>\n",
       "      <th>Unnamed: 0</th>\n",
       "      <th>fideid</th>\n",
       "      <th>name</th>\n",
       "      <th>country</th>\n",
       "      <th>sex</th>\n",
       "      <th>title</th>\n",
       "      <th>w_title</th>\n",
       "      <th>o_title</th>\n",
       "      <th>foa_title</th>\n",
       "      <th>rating</th>\n",
       "      <th>games</th>\n",
       "      <th>k</th>\n",
       "      <th>rapid_rating</th>\n",
       "      <th>rapid_games</th>\n",
       "      <th>rapid_k</th>\n",
       "      <th>blitz_rating</th>\n",
       "      <th>blitz_games</th>\n",
       "      <th>blitz_k</th>\n",
       "      <th>birthday</th>\n",
       "      <th>flag</th>\n",
       "    </tr>\n",
       "  </thead>\n",
       "  <tbody>\n",
       "    <tr>\n",
       "      <th>0</th>\n",
       "      <td>0</td>\n",
       "      <td>10688862</td>\n",
       "      <td>A Abdel Maabod, Hoda</td>\n",
       "      <td>EGY</td>\n",
       "      <td>F</td>\n",
       "      <td>NaN</td>\n",
       "      <td>NaN</td>\n",
       "      <td>NaN</td>\n",
       "      <td>NaN</td>\n",
       "      <td>NaN</td>\n",
       "      <td>NaN</td>\n",
       "      <td>NaN</td>\n",
       "      <td>NaN</td>\n",
       "      <td>NaN</td>\n",
       "      <td>NaN</td>\n",
       "      <td>NaN</td>\n",
       "      <td>NaN</td>\n",
       "      <td>NaN</td>\n",
       "      <td>2009.0</td>\n",
       "      <td>w</td>\n",
       "    </tr>\n",
       "  </tbody>\n",
       "</table>\n",
       "</div>"
      ],
      "text/plain": [
       "   Unnamed: 0    fideid                  name country sex title w_title  \\\n",
       "0           0  10688862  A Abdel Maabod, Hoda     EGY   F   NaN     NaN   \n",
       "\n",
       "  o_title foa_title  rating  games   k  rapid_rating  rapid_games  rapid_k  \\\n",
       "0     NaN       NaN     NaN    NaN NaN           NaN          NaN      NaN   \n",
       "\n",
       "   blitz_rating  blitz_games  blitz_k  birthday flag  \n",
       "0           NaN          NaN      NaN    2009.0    w  "
      ]
     },
     "execution_count": 2,
     "metadata": {},
     "output_type": "execute_result"
    }
   ],
   "source": [
    "df.head(1)"
   ]
  },
  {
   "cell_type": "code",
   "execution_count": null,
   "metadata": {},
   "outputs": [],
   "source": [
    "lookup_table = df[['name', 'fideid']].set_index('name').to_dict()['fideid'] #Create a dictionary that maps name to fide id"
   ]
  },
  {
   "cell_type": "code",
   "execution_count": null,
   "metadata": {
    "id": "PTx66b0Nw63J",
    "tags": []
   },
   "outputs": [],
   "source": [
    "import chess.pgn\n",
    "import glob\n",
    "from tqdm import tqdm\n",
    "import pickle\n",
    "\n",
    "pgn_files = glob.glob('unzipped/unzipped/*')\n",
    "\n",
    "class MyGameBuilder(chess.pgn.GameBuilder):\n",
    "    def handle_error(self, error: Exception) -> None:\n",
    "        pass  # Ignore error\n",
    "\n",
    "already_seen = set()\n",
    "def read_games(pgn_files):\n",
    "    global already_seen\n",
    "    file_count = 0\n",
    "    games = []\n",
    "    for pgn_file in tqdm(pgn_files):\n",
    "\n",
    "      with open(pgn_file, errors='ignore') as f:\n",
    "\n",
    "          pgn_game = True\n",
    "          while True:          \n",
    "              try:\n",
    "                pgn_game = chess.pgn.read_game(f, Visitor=MyGameBuilder)\n",
    "                if not pgn_game:\n",
    "                    break\n",
    "                if \"WhiteFideId\" not in pgn_game.headers or \"BlackFideId\" not in pgn_game.headers: #If fide id is not found, use player's name to find it            \n",
    "                    pgn_game.headers['WhiteFideId'] = str(lookup_table[pgn_game.headers['White']])\n",
    "                    pgn_game.headers['BlackFideId'] = str(lookup_table[pgn_game.headers['Black']])           \n",
    "                key = pgn_game.headers['WhiteFideId'] + pgn_game.headers['BlackFideId'] + pgn_game.headers['Date']\n",
    "                if key not in already_seen: #Games colleceted from multiple sources, some might appear multiple times, ignore duplicates\n",
    "                    already_seen.add(key)            \n",
    "                    games.append(pgn_game)\n",
    "                    if len(games) >= 100_000: #Save to drive when there are more than 100,000 games, too big for RAM\n",
    "                        try:\n",
    "                            file_count += 1\n",
    "                            with open(f\"games/games-{file_count}.pkl\", \"wb\") as file:\n",
    "                                pickle.dump(games, file)\n",
    "                        except:\n",
    "                            pass\n",
    "                        games = []\n",
    "              except Exception as e:\n",
    "                if type(e) is not KeyError:\n",
    "                    print(e)\n",
    "                pass\n",
    "    file_count += 1\n",
    "    with open(f\"games/games-{file_count}.pkl\", \"wb\") as file:\n",
    "        pickle.dump(games, file)\n",
    "    games = []\n",
    "    #return games\n",
    "\n",
    "read_games(pgn_files)"
   ]
  },
  {
   "cell_type": "code",
   "execution_count": 1,
   "metadata": {
    "id": "r6V1gNqdamWw"
   },
   "outputs": [],
   "source": [
    "import chess.polyglot\n",
    "import chess\n",
    "#Load opening book to be able to ignore opening theory moves\n",
    "opening_book_file = 'M11.2.bin'\n",
    "opening_book = chess.polyglot.open_reader(opening_book_file)"
   ]
  },
  {
   "cell_type": "code",
   "execution_count": 4,
   "metadata": {
    "colab": {
     "base_uri": "https://localhost:8080/",
     "height": 179
    },
    "id": "TTv4ER4apncQ",
    "outputId": "b7bcc1fb-f185-48f3-d7cd-c640027541a6"
   },
   "outputs": [
    {
     "data": {
      "text/html": [
       "<div>\n",
       "<style scoped>\n",
       "    .dataframe tbody tr th:only-of-type {\n",
       "        vertical-align: middle;\n",
       "    }\n",
       "\n",
       "    .dataframe tbody tr th {\n",
       "        vertical-align: top;\n",
       "    }\n",
       "\n",
       "    .dataframe thead th {\n",
       "        text-align: right;\n",
       "    }\n",
       "</style>\n",
       "<table border=\"1\" class=\"dataframe\">\n",
       "  <thead>\n",
       "    <tr style=\"text-align: right;\">\n",
       "      <th></th>\n",
       "      <th>Unnamed: 0</th>\n",
       "      <th>fideid</th>\n",
       "      <th>name</th>\n",
       "      <th>country</th>\n",
       "      <th>sex</th>\n",
       "      <th>title</th>\n",
       "      <th>w_title</th>\n",
       "      <th>o_title</th>\n",
       "      <th>foa_title</th>\n",
       "      <th>rating</th>\n",
       "      <th>games</th>\n",
       "      <th>k</th>\n",
       "      <th>rapid_rating</th>\n",
       "      <th>rapid_games</th>\n",
       "      <th>rapid_k</th>\n",
       "      <th>blitz_rating</th>\n",
       "      <th>blitz_games</th>\n",
       "      <th>blitz_k</th>\n",
       "      <th>birthday</th>\n",
       "      <th>flag</th>\n",
       "    </tr>\n",
       "  </thead>\n",
       "  <tbody>\n",
       "    <tr>\n",
       "      <th>0</th>\n",
       "      <td>0</td>\n",
       "      <td>10688862</td>\n",
       "      <td>A Abdel Maabod, Hoda</td>\n",
       "      <td>EGY</td>\n",
       "      <td>F</td>\n",
       "      <td>NaN</td>\n",
       "      <td>NaN</td>\n",
       "      <td>NaN</td>\n",
       "      <td>NaN</td>\n",
       "      <td>NaN</td>\n",
       "      <td>NaN</td>\n",
       "      <td>NaN</td>\n",
       "      <td>NaN</td>\n",
       "      <td>NaN</td>\n",
       "      <td>NaN</td>\n",
       "      <td>NaN</td>\n",
       "      <td>NaN</td>\n",
       "      <td>NaN</td>\n",
       "      <td>2009.0</td>\n",
       "      <td>w</td>\n",
       "    </tr>\n",
       "  </tbody>\n",
       "</table>\n",
       "</div>"
      ],
      "text/plain": [
       "   Unnamed: 0    fideid                  name country sex title w_title  \\\n",
       "0           0  10688862  A Abdel Maabod, Hoda     EGY   F   NaN     NaN   \n",
       "\n",
       "  o_title foa_title  rating  games   k  rapid_rating  rapid_games  rapid_k  \\\n",
       "0     NaN       NaN     NaN    NaN NaN           NaN          NaN      NaN   \n",
       "\n",
       "   blitz_rating  blitz_games  blitz_k  birthday flag  \n",
       "0           NaN          NaN      NaN    2009.0    w  "
      ]
     },
     "execution_count": 4,
     "metadata": {},
     "output_type": "execute_result"
    }
   ],
   "source": [
    "df.head(1)"
   ]
  },
  {
   "cell_type": "code",
   "execution_count": null,
   "metadata": {
    "id": "m_D4W6nPrSsf"
   },
   "outputs": [],
   "source": [
    "lookup_table = df[['fideid', 'sex']].set_index('fideid').to_dict()['sex'] #Table that maps player's Fide id to their gender"
   ]
  },
  {
   "cell_type": "code",
   "execution_count": null,
   "metadata": {
    "id": "0znZ1nIrZEMu",
    "tags": []
   },
   "outputs": [],
   "source": [
    "import glob\n",
    "import pickle\n",
    "from tqdm import tqdm\n",
    "#Convert the chess games save to the drive to arrays of Xs and Ys\n",
    "def get_Xs_boards_ys(games):\n",
    "    Xs_boards = []\n",
    "    ys = []\n",
    "    for game in tqdm(games):\n",
    "\n",
    "      if \"WhiteFideId\" not in game.headers or \"BlackFideId\" not in game.headers:\n",
    "        continue\n",
    "\n",
    "      board_list = []\n",
    "\n",
    "\n",
    "      out = False #Out of opening book\n",
    "      temp_board = chess.Board()\n",
    "\n",
    "      try:  \n",
    "          for move in game.mainline_moves():\n",
    "            temp_board.push(move)\n",
    "            if not out:\n",
    "              try:\n",
    "                opening_book.find(temp_board)\n",
    "              except: #No longer found in books\n",
    "                out = True\n",
    "            if out: #Add moves that are out of theory\n",
    "              board_list.append(temp_board.copy())\n",
    "              if len(board_list) > 40:\n",
    "                    break\n",
    "\n",
    "          if len(board_list) < 4:\n",
    "            continue\n",
    "          whitegender = lookup_table[int(game.headers[\"WhiteFideId\"])]\n",
    "          blackgender = lookup_table[int(game.headers[\"BlackFideId\"])]\n",
    "          ys.append(whitegender) #Each game has two samples, first predict white's gender and then black's\n",
    "          ys.append(blackgender)\n",
    "          Xs_boards.append(board_list)\n",
    "      except:\n",
    "          pass\n",
    "    return Xs_boards, ys\n",
    "#For each file of games, convert to list of boards and target values\n",
    "for path in glob.glob(\"games/*\"):\n",
    "    try:\n",
    "        with open(path, \"rb\") as games_file:\n",
    "            print(f'loading {path}')\n",
    "            games = pickle.load(games_file)\n",
    "            Xs_boards, ys = get_Xs_boards_ys(games)\n",
    "\n",
    "            name = path.split('/')[-1]\n",
    "            with open(f\"boards/Xs_boards-{name}\", \"wb\") as file:\n",
    "                pickle.dump(Xs_boards, file)\n",
    "            with open(f\"boards/ys_boards-{name}\", \"wb\") as file:\n",
    "                pickle.dump(ys, file)\n",
    "    except Exception:\n",
    "        print(f'failed to open file {path}')"
   ]
  },
  {
   "cell_type": "code",
   "execution_count": 1,
   "metadata": {},
   "outputs": [],
   "source": [
    "import numpy as np\n",
    "import chess\n",
    "\n",
    "def convert_board_to_one_hot(board):\n",
    "    piece_mapping = {\n",
    "        chess.PAWN: 0,\n",
    "        chess.KNIGHT: 1,\n",
    "        chess.BISHOP: 2,\n",
    "        chess.ROOK: 3,\n",
    "        chess.QUEEN: 4,\n",
    "        chess.KING: 5\n",
    "    }\n",
    "\n",
    "    one_hot_board = np.zeros((17, 8, 8), dtype=np.int8)\n",
    "\n",
    "    # Fill piece positions\n",
    "    for square in chess.SQUARES:\n",
    "        piece = board.piece_at(square)\n",
    "        if piece is not None:\n",
    "            piece_type = piece.piece_type\n",
    "            piece_color = piece.color\n",
    "            channel = (piece_mapping[piece_type] + (6 if piece_color else 0))\n",
    "            one_hot_board[channel, chess.square_rank(square), chess.square_file(square)] = 1\n",
    "\n",
    "    # Fill castling rights\n",
    "    castling_rights = board.castling_rights\n",
    "    if castling_rights & chess.BB_H1:\n",
    "        one_hot_board[12, 0, 7] = 1  # White kingside\n",
    "    if castling_rights & chess.BB_A1:\n",
    "        one_hot_board[12, 0, 0] = 1  # White queenside\n",
    "    if castling_rights & chess.BB_H8:\n",
    "        one_hot_board[13, 7, 7] = 1  # Black kingside\n",
    "    if castling_rights & chess.BB_A8:\n",
    "        one_hot_board[13, 7, 0] = 1  # Black queenside\n",
    "\n",
    "    # Fill active color\n",
    "    if board.turn == chess.WHITE:\n",
    "        one_hot_board[14, :, :] = 1\n",
    "\n",
    "    # Fill en passant square\n",
    "    if board.ep_square is not None:\n",
    "        rank = chess.square_rank(board.ep_square)\n",
    "        file = chess.square_file(board.ep_square)\n",
    "        one_hot_board[15, rank, file] = 1\n",
    "\n",
    "    # Fill halfmove clock\n",
    "    halfmove_clock = board.halfmove_clock\n",
    "    one_hot_board[16, :, :] = halfmove_clock\n",
    "\n",
    "    return one_hot_board\n",
    "\n",
    "def boards_to_vectors(boards):\n",
    "    return list(map(convert_board_to_one_hot, boards))"
   ]
  },
  {
   "cell_type": "code",
   "execution_count": 3,
   "metadata": {
    "id": "TySogonf2HrG",
    "tags": []
   },
   "outputs": [
    {
     "name": "stdout",
     "output_type": "stream",
     "text": [
      "loading boards/Xs_boards-games-17.pkl\n"
     ]
    },
    {
     "name": "stderr",
     "output_type": "stream",
     "text": [
      "100%|██████████| 97074/97074 [03:52<00:00, 418.38it/s]\n",
      "100%|██████████| 194148/194148 [00:36<00:00, 5326.75it/s]\n"
     ]
    },
    {
     "name": "stdout",
     "output_type": "stream",
     "text": [
      "loading boards/Xs_boards-games-18.pkl\n"
     ]
    },
    {
     "name": "stderr",
     "output_type": "stream",
     "text": [
      "100%|██████████| 97491/97491 [03:40<00:00, 441.26it/s]\n",
      "100%|██████████| 194982/194982 [00:33<00:00, 5907.87it/s]\n"
     ]
    },
    {
     "name": "stdout",
     "output_type": "stream",
     "text": [
      "loading boards/Xs_boards-games-19.pkl\n"
     ]
    },
    {
     "name": "stderr",
     "output_type": "stream",
     "text": [
      "100%|██████████| 96972/96972 [03:43<00:00, 433.58it/s]\n",
      "100%|██████████| 193944/193944 [00:30<00:00, 6293.49it/s]\n"
     ]
    },
    {
     "name": "stdout",
     "output_type": "stream",
     "text": [
      "loading boards/Xs_boards-games-20.pkl\n"
     ]
    },
    {
     "name": "stderr",
     "output_type": "stream",
     "text": [
      "100%|██████████| 97424/97424 [03:46<00:00, 430.50it/s]\n",
      "100%|██████████| 194848/194848 [00:32<00:00, 5917.30it/s]\n"
     ]
    },
    {
     "name": "stdout",
     "output_type": "stream",
     "text": [
      "loading boards/Xs_boards-games-21.pkl\n"
     ]
    },
    {
     "name": "stderr",
     "output_type": "stream",
     "text": [
      "100%|██████████| 97480/97480 [03:47<00:00, 429.31it/s]\n",
      "100%|██████████| 194960/194960 [00:33<00:00, 5859.85it/s]\n"
     ]
    },
    {
     "name": "stdout",
     "output_type": "stream",
     "text": [
      "loading boards/Xs_boards-games-22.pkl\n"
     ]
    },
    {
     "name": "stderr",
     "output_type": "stream",
     "text": [
      "100%|██████████| 61078/61078 [02:17<00:00, 445.45it/s]\n",
      "100%|██████████| 122156/122156 [00:14<00:00, 8596.86it/s]\n"
     ]
    }
   ],
   "source": [
    "import numpy as np\n",
    "from tqdm import tqdm\n",
    "import pickle\n",
    "import glob\n",
    "import gc\n",
    "\n",
    "#Convert games to the model's input format\n",
    "\n",
    "def boards_to_xs(Xs_boards):\n",
    "    Xs = []\n",
    "    for board_list in tqdm(Xs_boards):\n",
    "        vectors = boards_to_vectors(board_list)    \n",
    "        first = board_list[0]\n",
    "        #Create lists of tuples each tuple is a board before a move and the board after a move\n",
    "        #Create a list for each player in the game\n",
    "        first_boards = []\n",
    "        for i in range(0, len(board_list) - 1, 2):    \n",
    "            vector = np.concatenate((vectors[i], vectors[i + 1]))\n",
    "            first_boards.append(vector)        \n",
    "\n",
    "        second_boards = []\n",
    "        for i in range(1, len(board_list) - 1, 2):\n",
    "            vector = np.concatenate((vectors[i], vectors[i + 1]))\n",
    "            second_boards.append(vector)        \n",
    "\n",
    "        if first.turn: #White is the first y that corresponds these boards, black is the second\n",
    "            white_boards = first_boards\n",
    "            black_boards = second_boards\n",
    "        else:\n",
    "            white_boards = second_boards\n",
    "            black_boards = first_boards\n",
    "\n",
    "        Xs.append(white_boards)\n",
    "        Xs.append(black_boards)\n",
    "    return Xs\n",
    "\n",
    "\n",
    "def pad_xs(Xs):\n",
    "    max_shape = max([len(data) for data in Xs])\n",
    "    padded_Xs = []\n",
    "    for data in tqdm(Xs):\n",
    "        data = np.asarray(data)\n",
    "        pad_width = [(max_shape - data.shape[0], 0), (0, 0), (0, 0), (0, 0)]\n",
    "        padded_data = np.pad(data, pad_width, mode='constant')\n",
    "        padded_Xs.append(padded_data)\n",
    "\n",
    "    padded_Xs = np.asarray(padded_Xs)\n",
    "    padded_Xs = padded_Xs.reshape((-1, padded_Xs.shape[1], padded_Xs.shape[3], padded_Xs.shape[4], padded_Xs.shape[2]))\n",
    "    return padded_Xs\n",
    "\n",
    "\n",
    "for i, path in enumerate(glob.glob(\"boards/Xs*\")):\n",
    "    try:\n",
    "        with open(path, \"rb\") as boards_file:\n",
    "            print(f'loading {path}')\n",
    "            boards = pickle.load(boards_file)\n",
    "            \n",
    "            \n",
    "        Xs = boards_to_xs(boards)\n",
    "        gc.collect()\n",
    "        Xs = pad_xs(Xs)\n",
    "        gc.collect()\n",
    "        file_num = path.split('-')[-1].split('.')[0]\n",
    "        name = f'/sise/liorrk-group/DataSets/Datamining/xs_data/xs-{file_num}'\n",
    "        np.save(name, Xs)\n",
    "        del Xs\n",
    "        del boards_file\n",
    "        del boards\n",
    "        gc.collect()\n",
    "        #with open(f\"xs_data/{name}.pkl\", \"wb\") as file:\n",
    "            #pickle.dump(Xs, file)\n",
    "                \n",
    "    except Exception as e:\n",
    "        print(e)\n",
    "        print(f'failed to open file {path}')"
   ]
  },
  {
   "cell_type": "code",
   "execution_count": 7,
   "metadata": {},
   "outputs": [
    {
     "name": "stdout",
     "output_type": "stream",
     "text": [
      "loading boards/ys_boards-games-1.pkl\n",
      "loading boards/ys_boards-games-3.pkl\n",
      "loading boards/ys_boards-games-4.pkl\n",
      "loading boards/ys_boards-games-5.pkl\n",
      "loading boards/ys_boards-games-6.pkl\n",
      "loading boards/ys_boards-games-7.pkl\n",
      "loading boards/ys_boards-games-8.pkl\n",
      "loading boards/ys_boards-games-10.pkl\n",
      "loading boards/ys_boards-games-11.pkl\n",
      "loading boards/ys_boards-games-12.pkl\n",
      "loading boards/ys_boards-games-13.pkl\n",
      "loading boards/ys_boards-games-14.pkl\n",
      "loading boards/ys_boards-games-15.pkl\n",
      "loading boards/ys_boards-games-16.pkl\n",
      "loading boards/ys_boards-games-17.pkl\n",
      "loading boards/ys_boards-games-18.pkl\n",
      "loading boards/ys_boards-games-19.pkl\n",
      "loading boards/ys_boards-games-20.pkl\n",
      "loading boards/ys_boards-games-21.pkl\n",
      "loading boards/ys_boards-games-22.pkl\n"
     ]
    }
   ],
   "source": [
    "#Convery target array of 'M' and 'F' to 0 for Male and 1 for Female\n",
    "\n",
    "def convert_ys(ys):\n",
    "    ys = list(map(lambda x: 0 if x == 'M' else 1, ys)) #Convert 'M' and 'F' to 0 and 1\n",
    "    return ys\n",
    "\n",
    "\n",
    "for i, path in enumerate(glob.glob(\"boards/ys*\")):\n",
    "    try:\n",
    "        with open(path, \"rb\") as ys_file:\n",
    "            print(f'loading {path}')\n",
    "            ys = pickle.load(ys_file)\n",
    "            \n",
    "        file_name = path.split('-')[-1].split('.')[0]\n",
    "        name = f'/sise/liorrk-group/DataSets/Datamining/xs_data/ys-{file_name}'\n",
    "        ys = convert_ys(ys)\n",
    "        np.save(name, ys)\n",
    "                \n",
    "    except Exception as e:\n",
    "        print(e)\n",
    "        print(f'failed to open file {path}')"
   ]
  },
  {
   "cell_type": "code",
   "execution_count": null,
   "metadata": {},
   "outputs": [],
   "source": []
  }
 ],
 "metadata": {
  "colab": {
   "provenance": []
  },
  "kernelspec": {
   "display_name": "my_env",
   "language": "python",
   "name": "my_env"
  },
  "language_info": {
   "codemirror_mode": {
    "name": "ipython",
    "version": 3
   },
   "file_extension": ".py",
   "mimetype": "text/x-python",
   "name": "python",
   "nbconvert_exporter": "python",
   "pygments_lexer": "ipython3",
   "version": "3.9.13"
  }
 },
 "nbformat": 4,
 "nbformat_minor": 4
}
