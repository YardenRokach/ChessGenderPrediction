{
 "cells": [
  {
   "cell_type": "code",
   "execution_count": null,
   "id": "48bc8be9-92d2-4764-9b36-10e30dac7cc6",
   "metadata": {},
   "outputs": [],
   "source": [
    "import re\n",
    "import requests\n",
    "#Get all download links for pgn files of games from the main page of The Week In Chess\n",
    "url = \"https://theweekinchess.com/twic\"\n",
    "headers = {\n",
    "    \"User-Agent\": \"Mozilla/5.0 (Windows NT 10.0; Win64; x64) AppleWebKit/537.36 (KHTML, like Gecko) Chrome/96.0.4664.93 Safari/537.36\",\n",
    "    \"Accept-Language\": \"en-US,en;q=0.9\",\n",
    "}\n",
    "response = requests.get(url, headers=headers)\n",
    "html = response.text\n",
    "pattern = r'<a href=\"(.*?)\">PGN</a>'\n",
    "matches = re.findall(pattern, html)\n",
    "\n",
    "links = []\n",
    "for match in matches:\n",
    "    links.append(match)\n",
    "\n",
    "links"
   ]
  },
  {
   "cell_type": "code",
   "execution_count": null,
   "id": "b85c5a43-150c-446d-8c3b-5d4e31d8cd10",
   "metadata": {},
   "outputs": [],
   "source": [
    "#Download pgn files, each contains around a thousand games\n",
    "for link in links:\n",
    "    !wget -P games $link"
   ]
  },
  {
   "cell_type": "code",
   "execution_count": 1,
   "id": "d0a924c5-9753-4cdb-bb15-ef5d97047b9f",
   "metadata": {},
   "outputs": [
    {
     "name": "stderr",
     "output_type": "stream",
     "text": [
      "\n",
      "KeyboardInterrupt\n",
      "\n"
     ]
    }
   ],
   "source": [
    "import re\n",
    "import requests\n",
    "\n",
    "#Download games from different tournaments that are recorded on fide's official websites\n",
    "\n",
    "headers = {\n",
    "    \"User-Agent\": \"Mozilla/5.0 (Windows NT 10.0; Win64; x64) AppleWebKit/537.36 (KHTML, like Gecko) Chrome/96.0.4664.93 Safari/537.36\",\n",
    "    \"Accept-Language\": \"en-US,en;q=0.9\",\n",
    "}\n",
    "links = []\n",
    "for month in range(1, 13): #Go through all months\n",
    "    for year in range(2015, 2023):\n",
    "        for country in ['USA', 'RUS']:\n",
    "            url = f'https://ratings.fide.com/tournament_list.phtml?moder=ev_code&country={country}&rating_period={year}-{month}-01'\n",
    "            response = requests.get(url, headers=headers)\n",
    "            html = response.text    \n",
    "            pattern = 'event=(\\d+)><img src=/imga/pgn.gif'\n",
    "            matches = re.findall(pattern, html)    \n",
    "            for match in matches:                \n",
    "                links.append('https://ratings.fide.com/view_pgn.phtml?code=' + str(match) + '&download=1')\n",
    "    \n",
    "len(links)"
   ]
  },
  {
   "cell_type": "code",
   "execution_count": null,
   "id": "5676c024-9044-4d77-80bd-ad04bf18e2e2",
   "metadata": {},
   "outputs": [],
   "source": [
    "for i, link in enumerate(links):\n",
    "    response = requests.get(link, headers=headers)    \n",
    "    file_name = 'unzipped/unzipped/' + str(i) + \".pgn\"\n",
    "    with open(file_name, 'w') as f:\n",
    "        f.write(response.text)"
   ]
  },
  {
   "cell_type": "code",
   "execution_count": null,
   "id": "3ac358f1-596f-4df8-98a4-01c89d76ed32",
   "metadata": {},
   "outputs": [],
   "source": [
    "#Extract pgn files from zip\n",
    "!unzip 'games/*.zip' -d unzipped"
   ]
  },
  {
   "cell_type": "code",
   "execution_count": null,
   "id": "14bd78ec-3bf9-4370-a21e-2662d4383074",
   "metadata": {},
   "outputs": [],
   "source": [
    "#Zip into one folder that can be used next time instead of downloading from The Week In Chess again\n",
    "!zip -r pgns.zip unzipped"
   ]
  },
  {
   "cell_type": "code",
   "execution_count": null,
   "id": "b63e4ccc-e23f-447f-8397-5508e42f27de",
   "metadata": {},
   "outputs": [],
   "source": [
    "#Download player information from fide's website\n",
    "!wget http://ratings.fide.com/download/players_list_xml.zip"
   ]
  },
  {
   "cell_type": "code",
   "execution_count": null,
   "id": "d11cfbac-1955-432b-b60c-12d8cba25c81",
   "metadata": {},
   "outputs": [],
   "source": [
    "!unzip players_list_xml.zip"
   ]
  },
  {
   "cell_type": "code",
   "execution_count": null,
   "id": "fe6aa830-f365-4638-9af6-e66f490389f8",
   "metadata": {},
   "outputs": [],
   "source": [
    "import pandas as pd\n",
    "import xml.etree.ElementTree as ET\n",
    "\n",
    "# Parse the XML file\n",
    "tree = ET.parse('players_list_xml_foa.xml')\n",
    "root = tree.getroot()"
   ]
  },
  {
   "cell_type": "code",
   "execution_count": null,
   "id": "bfcb25af-1ea4-4b0a-b9b6-87a12ffac93a",
   "metadata": {},
   "outputs": [],
   "source": [
    "# Extract the data from XML and create a dictionary\n",
    "#Turn the dictionary into a dataframe that contains player information\n",
    "data = []\n",
    "for child in root:\n",
    "    player = {}\n",
    "    for subchild in child:\n",
    "        #print(subchild)\n",
    "        player[subchild.tag] = subchild.text\n",
    "    data.append(player)\n",
    "df = pd.DataFrame(data)"
   ]
  },
  {
   "cell_type": "code",
   "execution_count": null,
   "id": "5a50aa06-9acf-4a1d-801c-5646b9d0a8cd",
   "metadata": {},
   "outputs": [],
   "source": [
    "#Save dataframe for future use\n",
    "df.to_csv('players_data.csv')"
   ]
  }
 ],
 "metadata": {
  "kernelspec": {
   "display_name": "my_env",
   "language": "python",
   "name": "my_env"
  },
  "language_info": {
   "codemirror_mode": {
    "name": "ipython",
    "version": 3
   },
   "file_extension": ".py",
   "mimetype": "text/x-python",
   "name": "python",
   "nbconvert_exporter": "python",
   "pygments_lexer": "ipython3",
   "version": "3.9.13"
  }
 },
 "nbformat": 4,
 "nbformat_minor": 5
}
